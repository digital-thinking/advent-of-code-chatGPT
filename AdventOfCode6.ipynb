{
 "cells": [
  {
   "cell_type": "markdown",
   "id": "c17df5da",
   "metadata": {},
   "source": [
    "# ChatGPT - Day 6 - Try 2"
   ]
  },
  {
   "cell_type": "markdown",
   "id": "4df84f45",
   "metadata": {},
   "source": [
    "First, we need to define a function that takes in a string and returns the position of the first start-of-packet marker. We will do this by looping through the string, keeping track of the last four characters, and checking if they are all different.\n",
    "\n",
    "To keep track of the last four characters, we will use a list of size four. We will initialize this list with the first four characters of the string, and then loop through the rest of the string, shifting the characters in the list to the left by one and adding the next character to the end of the list.\n",
    "\n",
    "To check if the characters in the list are all different, we will use a set to store the characters in the list. If the size of the set is equal to the size of the list, then all of the characters are different.\n",
    "\n",
    "If we find a start-of-packet marker, we will return the current position in the string (which is the length of the string up to the last character in the list). If we reach the end of the string without finding a marker, we will return -1.\n",
    "\n",
    "Here is the code:"
   ]
  },
  {
   "cell_type": "code",
   "execution_count": 2,
   "id": "b62340b3",
   "metadata": {},
   "outputs": [],
   "source": [
    "def find_marker(s):\n",
    "    last_four = [s[i] for i in range(4)]  # Initialize the list with the first four characters\n",
    "    for i in range(4, len(s)):\n",
    "        last_four.pop(0)  # Shift the characters in the list to the left by one\n",
    "        last_four.append(s[i])  # Add the next character to the end of the list\n",
    "        if len(set(last_four)) == 4:  # Check if the characters in the list are all different\n",
    "            return i  # Return the current position in the string\n",
    "    return -1  # Return -1 if no marker is found\n"
   ]
  },
  {
   "cell_type": "markdown",
   "id": "f4368fae",
   "metadata": {},
   "source": [
    "Next, we need to test this function with the examples given in the problem statement. We will do this by calling the find_marker function for each example and printing the result.\n",
    "\n",
    "Here is the code:"
   ]
  },
  {
   "cell_type": "code",
   "execution_count": 3,
   "id": "60f505d6",
   "metadata": {},
   "outputs": [
    {
     "name": "stdout",
     "output_type": "stream",
     "text": [
      "find_marker(mjqjpqmgbljsphdztnvjfqwrcgsmlb) = 6\n",
      "find_marker(bvwbjplbgvbhsrlpgdmjqwftvncz) = 4\n",
      "find_marker(nppdvjthqldpwncqszvftbrmjlhg) = 5\n",
      "find_marker(nznrnfrfntjfmvfwmzdfjlvtqnbhcprsg) = 9\n",
      "find_marker(zcfzfwzzqfrljwzlrfnpqdbhtmscgvjw) = 10\n"
     ]
    }
   ],
   "source": [
    "# Test the find_marker function\n",
    "test_cases = [\n",
    "    \"mjqjpqmgbljsphdztnvjfqwrcgsmlb\",  # Expected output: 7\n",
    "    \"bvwbjplbgvbhsrlpgdmjqwftvncz\",  # Expected output: 5\n",
    "    \"nppdvjthqldpwncqszvftbrmjlhg\",  # Expected output: 6\n",
    "    \"nznrnfrfntjfmvfwmzdfjlvtqnbhcprsg\",  # Expected output: 10\n",
    "    \"zcfzfwzzqfrljwzlrfnpqdbhtmscgvjw\"  # Expected output: 11\n",
    "]\n",
    "\n",
    "for test_case in test_cases:\n",
    "    result = find_marker(test_case)\n",
    "    print(f\"find_marker({test_case}) = {result}\")\n"
   ]
  },
  {
   "cell_type": "code",
   "execution_count": 5,
   "id": "c084903e",
   "metadata": {},
   "outputs": [
    {
     "name": "stdout",
     "output_type": "stream",
     "text": [
      "6\n"
     ]
    }
   ],
   "source": [
    "# Solve the problem\n",
    "input_str = \"mjqjpqmgbljsphdztnvjfqwrcgsmlb\"\n",
    "result = find_marker(input_str)\n",
    "print(result)"
   ]
  }
 ],
 "metadata": {
  "kernelspec": {
   "display_name": "Python 3",
   "language": "python",
   "name": "python3"
  },
  "language_info": {
   "codemirror_mode": {
    "name": "ipython",
    "version": 3
   },
   "file_extension": ".py",
   "mimetype": "text/x-python",
   "name": "python",
   "nbconvert_exporter": "python",
   "pygments_lexer": "ipython3",
   "version": "3.8.8"
  }
 },
 "nbformat": 4,
 "nbformat_minor": 5
}

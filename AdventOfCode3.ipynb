{
 "cells": [
  {
   "cell_type": "markdown",
   "id": "c17df5da",
   "metadata": {},
   "source": [
    "# ChatGPT - Day 3 - Try 5"
   ]
  },
  {
   "cell_type": "markdown",
   "id": "4df84f45",
   "metadata": {},
   "source": [
    "The problem asks us to find the sum of the priorities of the item types that appear in both compartments of each rucksack.\n",
    "\n",
    "We can start by iterating through each rucksack and storing the items in each compartment in two different sets. Then, we can find the intersection of these sets, which will give us the item types that appear in both compartments.\n",
    "\n",
    "To find the priority of each item type, we can simply subtract 96 from the ASCII value of the lowercase letters and add 26 to the ASCII value of the uppercase letters. This will give us the priority of each item type.\n",
    "\n",
    "Finally, we can sum the priorities of the item types that appear in both compartments of each rucksack and print the result.\n",
    "\n",
    "Here is some sample code that solves the problem:"
   ]
  },
  {
   "cell_type": "code",
   "execution_count": 1,
   "id": "b62340b3",
   "metadata": {},
   "outputs": [
    {
     "name": "stdout",
     "output_type": "stream",
     "text": [
      "157\n"
     ]
    }
   ],
   "source": [
    "input_str = \"\"\"\n",
    "vJrwpWtwJgWrhcsFMMfFFhFp\n",
    "jqHRNqRjqzjGDLGLrsFMfFZSrLrFZsSL\n",
    "PmmdzqPrVvPwwTWBwg\n",
    "wMqvLMZHhHMvwLHjbvcjnnSBnvTQFn\n",
    "ttgJtRGJQctTZtZT\n",
    "CrZsJsPPZsGzwwsLwLmpwMDw\"\"\"\n",
    "\n",
    "# Split input string into a list of rucksack strings\n",
    "rucksacks = input_str.splitlines()\n",
    "\n",
    "# Initialize variable for total priority\n",
    "total_priority = 0\n",
    "\n",
    "# Iterate through rucksacks\n",
    "for rucksack in rucksacks:\n",
    "    # Split rucksack string into two strings representing the two compartments\n",
    "    compartment1, compartment2 = rucksack[:len(rucksack)//2], rucksack[len(rucksack)//2:]\n",
    "\n",
    "    # Iterate through letters in compartment1\n",
    "    for letter in compartment1:\n",
    "        # If letter appears in compartment2, calculate its priority and add it to total_priority\n",
    "        if letter in compartment2:\n",
    "            if letter.islower():\n",
    "                priority = ord(letter) - 96\n",
    "            else:\n",
    "                priority = ord(letter) - 38\n",
    "            total_priority += priority\n",
    "            break\n",
    "\n",
    "# Print total priority\n",
    "print(total_priority)\n"
   ]
  }
 ],
 "metadata": {
  "kernelspec": {
   "display_name": "Python 3",
   "language": "python",
   "name": "python3"
  },
  "language_info": {
   "codemirror_mode": {
    "name": "ipython",
    "version": 3
   },
   "file_extension": ".py",
   "mimetype": "text/x-python",
   "name": "python",
   "nbconvert_exporter": "python",
   "pygments_lexer": "ipython3",
   "version": "3.8.8"
  }
 },
 "nbformat": 4,
 "nbformat_minor": 5
}

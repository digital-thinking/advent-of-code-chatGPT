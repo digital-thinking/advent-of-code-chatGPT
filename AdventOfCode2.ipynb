{
 "cells": [
  {
   "cell_type": "markdown",
   "id": "71b4c851",
   "metadata": {},
   "source": [
    "# ChatGPT Day 2 - Try 2"
   ]
  },
  {
   "cell_type": "markdown",
   "id": "898691c9",
   "metadata": {},
   "source": [
    "To solve this problem, we need to iterate through the list of lines in the input string and calculate the score for each round. We can use a dictionary to map the possible moves to their corresponding scores. For example, moves = {\"A\": 1, \"B\": 2, \"C\": 3, \"X\": 1, \"Y\": 2, \"Z\": 3}.\n",
    "\n",
    "For each line in the input string, we will split the line into two moves and look up the scores for each move in the moves dictionary. Then, we will calculate the round score based on the following rules:\n",
    "\n",
    "    If the first move has a higher score than the second move, the round score is the score of the first move plus 0 (since the round is a loss for you).\n",
    "    If the first move has a lower score than the second move, the round score is the score of the first move plus 6 (since the round is a win for you).\n",
    "    If the first move has the same score as the second move, the round score is the score of the first move plus 3 (since the round is a draw).\n",
    "\n",
    "We will keep a running total of the scores for each round in a variable total_score. At the end, we will print the total score.\n",
    "\n",
    "Here is the code:"
   ]
  },
  {
   "cell_type": "code",
   "execution_count": 24,
   "id": "8d86a7ae",
   "metadata": {},
   "outputs": [
    {
     "name": "stdout",
     "output_type": "stream",
     "text": [
      "15\n"
     ]
    }
   ],
   "source": [
    "input_str = \"\"\"A Y\n",
    "B X\n",
    "C Z\"\"\"\n",
    "\n",
    "# Create dictionary to map moves to scores\n",
    "moves = {\"A\": 1, \"B\": 2, \"C\": 3, \"X\": 1, \"Y\": 2, \"Z\": 3}\n",
    "\n",
    "# Split input string into a list of lines\n",
    "lines = input_str.splitlines()\n",
    "\n",
    "# Initialize variable for total score\n",
    "total_score = 0\n",
    "\n",
    "# Iterate through lines\n",
    "for line in lines:\n",
    "    # Split line into two moves\n",
    "    move1, move2 = line.split()\n",
    "\n",
    "    # Look up scores for each move in moves dictionary\n",
    "    score1 = moves[move1]\n",
    "    score2 = moves[move2]\n",
    "\n",
    "    # Calculate round score based on scores of moves\n",
    "    if score1 > score2:\n",
    "        round_score = score1 + 0\n",
    "    elif score1 < score2:\n",
    "        round_score = score1 + 6\n",
    "    else:\n",
    "        round_score = score1 + 3\n",
    "\n",
    "    # Add round score to total score\n",
    "    total_score += round_score\n",
    "\n",
    "# Print total score\n",
    "print(total_score)"
   ]
  }
 ],
 "metadata": {
  "kernelspec": {
   "display_name": "Python 3",
   "language": "python",
   "name": "python3"
  },
  "language_info": {
   "codemirror_mode": {
    "name": "ipython",
    "version": 3
   },
   "file_extension": ".py",
   "mimetype": "text/x-python",
   "name": "python",
   "nbconvert_exporter": "python",
   "pygments_lexer": "ipython3",
   "version": "3.8.8"
  }
 },
 "nbformat": 4,
 "nbformat_minor": 5
}

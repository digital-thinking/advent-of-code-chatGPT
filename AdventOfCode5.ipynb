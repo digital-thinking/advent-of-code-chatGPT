{
 "cells": [
  {
   "cell_type": "markdown",
   "id": "c17df5da",
   "metadata": {},
   "source": [
    "# ChatGPT - Day 5 - Try 9"
   ]
  },
  {
   "cell_type": "markdown",
   "id": "4df84f45",
   "metadata": {},
   "source": [
    "To solve this problem, we can split the input string into a list of steps and a list of stacks. Then, we can iterate through the steps and apply each step to the list of stacks.\n",
    "\n",
    "Each step is given as a string of the form \"move X from Y to Z\", where X is the number of crates to move, Y is the starting stack, and Z is the destination stack. We can split each step string into its three components using the split() method. Then, we can convert the three components to integers and use them to move the crates from the starting stack to the destination stack.\n",
    "\n",
    "To move the crates, we can first remove the top X crates from the starting stack. Then, we can insert these crates into the destination stack at the appropriate position. If the destination stack is empty, the crates are inserted at the bottom of the stack. If the destination stack is not empty, the crates are inserted above the top crate of the destination stack.\n",
    "\n",
    "After we have applied all of the steps, the top crate of each stack will be the answer. We can get the top crate of each stack by getting the top element of each list. We can print these elements joined together as a single string to get the final answer.\n",
    "\n",
    "Here is the code:"
   ]
  },
  {
   "cell_type": "code",
   "execution_count": 27,
   "id": "b62340b3",
   "metadata": {},
   "outputs": [
    {
     "ename": "IndexError",
     "evalue": "list index out of range",
     "output_type": "error",
     "traceback": [
      "\u001b[1;31m---------------------------------------------------------------------------\u001b[0m",
      "\u001b[1;31mIndexError\u001b[0m                                Traceback (most recent call last)",
      "\u001b[1;32m<ipython-input-27-4ff7468b182b>\u001b[0m in \u001b[0;36m<module>\u001b[1;34m\u001b[0m\n\u001b[0;32m     23\u001b[0m     \u001b[1;32melse\u001b[0m\u001b[1;33m:\u001b[0m\u001b[1;33m\u001b[0m\u001b[1;33m\u001b[0m\u001b[0m\n\u001b[0;32m     24\u001b[0m         \u001b[1;31m#this line describes a move\u001b[0m\u001b[1;33m\u001b[0m\u001b[1;33m\u001b[0m\u001b[1;33m\u001b[0m\u001b[0m\n\u001b[1;32m---> 25\u001b[1;33m         \u001b[0mnum_crates\u001b[0m \u001b[1;33m=\u001b[0m \u001b[0mint\u001b[0m\u001b[1;33m(\u001b[0m\u001b[0mparts\u001b[0m\u001b[1;33m[\u001b[0m\u001b[1;36m1\u001b[0m\u001b[1;33m]\u001b[0m\u001b[1;33m)\u001b[0m\u001b[1;33m\u001b[0m\u001b[1;33m\u001b[0m\u001b[0m\n\u001b[0m\u001b[0;32m     26\u001b[0m         \u001b[0mfrom_stack\u001b[0m \u001b[1;33m=\u001b[0m \u001b[0mparts\u001b[0m\u001b[1;33m[\u001b[0m\u001b[1;36m3\u001b[0m\u001b[1;33m]\u001b[0m\u001b[1;33m\u001b[0m\u001b[1;33m\u001b[0m\u001b[0m\n\u001b[0;32m     27\u001b[0m         \u001b[0mto_stack\u001b[0m \u001b[1;33m=\u001b[0m \u001b[0mparts\u001b[0m\u001b[1;33m[\u001b[0m\u001b[1;36m5\u001b[0m\u001b[1;33m]\u001b[0m\u001b[1;33m\u001b[0m\u001b[1;33m\u001b[0m\u001b[0m\n",
      "\u001b[1;31mIndexError\u001b[0m: list index out of range"
     ]
    }
   ],
   "source": [
    "input_lines = \"\"\"\n",
    "[D]    \n",
    "[N] [C]    \n",
    "[Z] [M] [P]\n",
    " 1   2   3 \n",
    "\n",
    "move 1 from 2 to 1\n",
    "move 3 from 1 to 3\n",
    "move 2 from 2 to 1\n",
    "move 1 from 1 to 2\"\"\"\n",
    "\n",
    "\n",
    "#parse the input to get the initial configuration of the stacks\n",
    "stacks = {}\n",
    "stack_names = ['1', '2', '3']\n",
    "for line in input_lines:\n",
    "    parts = line.split()\n",
    "    if len(parts) == 3:\n",
    "        #this line describes a stack\n",
    "        stack_name = parts[0]\n",
    "        crates = parts[2:]\n",
    "        stacks[stack_name] = crates\n",
    "    else:\n",
    "        #this line describes a move\n",
    "        num_crates = int(parts[1])\n",
    "        from_stack = parts[3]\n",
    "        to_stack = parts[5]\n",
    "        #move the crates from the from_stack to the to_stack\n",
    "        crates = stacks[from_stack][-num_crates:]\n",
    "        for crate in crates:\n",
    "            stacks[from_stack].remove(crate)\n",
    "            stacks[to_stack].append(crate)\n",
    "\n",
    "#combine the top crates from each stack to get the final message\n",
    "message = \"\"\n",
    "for stack_name in stack_names:\n",
    "    message += stacks[stack_name][-1]\n",
    "\n",
    "print(message)\n"
   ]
  },
  {
   "cell_type": "code",
   "execution_count": null,
   "id": "60f505d6",
   "metadata": {},
   "outputs": [],
   "source": []
  }
 ],
 "metadata": {
  "kernelspec": {
   "display_name": "Python 3",
   "language": "python",
   "name": "python3"
  },
  "language_info": {
   "codemirror_mode": {
    "name": "ipython",
    "version": 3
   },
   "file_extension": ".py",
   "mimetype": "text/x-python",
   "name": "python",
   "nbconvert_exporter": "python",
   "pygments_lexer": "ipython3",
   "version": "3.8.8"
  }
 },
 "nbformat": 4,
 "nbformat_minor": 5
}

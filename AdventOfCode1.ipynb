{
 "cells": [
  {
   "cell_type": "markdown",
   "id": "c5ce2b99",
   "metadata": {},
   "source": [
    "# ChatGPT Day 1 - Try 2"
   ]
  },
  {
   "cell_type": "markdown",
   "id": "b1b37346",
   "metadata": {},
   "source": [
    "To solve this problem, we will iterate through the list of lines in the input string and find the item type that appears in both compartments of each rucksack. We can use a dictionary to map each item type to its priority. For example, priorities = {\"a\": 1, \"b\": 2, ..., \"A\": 27, \"B\": 28, ...}.\n",
    "\n",
    "For each line in the input string, we will split the line in half to get the two compartments. Then, we will iterate through the characters in each compartment and update the counts for each character in the counts dictionary.\n",
    "\n",
    "After we have processed all of the rucksacks, we will find the item type that appears in both compartments of each rucksack by finding the character with the maximum count in the counts dictionary. We will then look up the priority for this item type in the priorities dictionary and add it to the total_priority variable.\n",
    "\n",
    "At the end, we will print the total priority.\n",
    "\n",
    "Here is the code:"
   ]
  },
  {
   "cell_type": "code",
   "execution_count": 1,
   "id": "20ee7838",
   "metadata": {},
   "outputs": [
    {
     "name": "stdout",
     "output_type": "stream",
     "text": [
      "24000\n"
     ]
    }
   ],
   "source": [
    "input_str = \"\"\"\n",
    "1000\n",
    "2000\n",
    "3000\n",
    "\n",
    "4000\n",
    "\n",
    "5000\n",
    "6000\n",
    "\n",
    "7000\n",
    "8000\n",
    "9000\n",
    "\n",
    "10000\n",
    "\"\"\"\n",
    "\n",
    "# Split input string into a list of strings\n",
    "calorie_list = input_str.splitlines()\n",
    "\n",
    "# Initialize variables for maximum number of calories and Elf with maximum number of calories\n",
    "max_calories = 0\n",
    "max_calorie_elf = 0\n",
    "\n",
    "# Initialize variable for total calories for current Elf\n",
    "total_calories = 0\n",
    "\n",
    "# Iterate through calorie_list\n",
    "for calorie in calorie_list:\n",
    "    # If calorie is an empty string, reset total_calories and continue to next iteration\n",
    "    if calorie == \"\":\n",
    "        total_calories = 0\n",
    "        continue\n",
    "\n",
    "    # Add calorie to total_calories\n",
    "    total_calories += int(calorie)\n",
    "\n",
    "    # If total_calories is greater than max_calories, update max_calories and max_calorie_elf\n",
    "    if total_calories > max_calories:\n",
    "        max_calories = total_calories\n",
    "        max_calorie_elf = calorie\n",
    "\n",
    "# Print number of calories carried by Elf with maximum number of calories\n",
    "print(max_calories)"
   ]
  }
 ],
 "metadata": {
  "kernelspec": {
   "display_name": "Python 3",
   "language": "python",
   "name": "python3"
  },
  "language_info": {
   "codemirror_mode": {
    "name": "ipython",
    "version": 3
   },
   "file_extension": ".py",
   "mimetype": "text/x-python",
   "name": "python",
   "nbconvert_exporter": "python",
   "pygments_lexer": "ipython3",
   "version": "3.8.8"
  }
 },
 "nbformat": 4,
 "nbformat_minor": 5
}

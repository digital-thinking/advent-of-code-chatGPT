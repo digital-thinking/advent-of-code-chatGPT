{
 "cells": [
  {
   "cell_type": "markdown",
   "id": "c17df5da",
   "metadata": {},
   "source": [
    "# ChatGPT - Day 4 - Try 3"
   ]
  },
  {
   "cell_type": "markdown",
   "id": "4df84f45",
   "metadata": {},
   "source": [
    "To solve this problem, we can split the input string into a list of assignment pairs and iterate through this list. For each pair, we will split each assignment into its start and end section IDs and store these in a tuple. Then, we will check if one assignment fully contains the other by comparing the start and end IDs of the two assignments. If one assignment fully contains the other, we will increment a counter num_overlaps and continue to the next pair.\n",
    "\n",
    "At the end, we will print the value of num_overlaps.\n",
    "\n",
    "Here is the code:"
   ]
  },
  {
   "cell_type": "code",
   "execution_count": 4,
   "id": "b62340b3",
   "metadata": {},
   "outputs": [
    {
     "name": "stdout",
     "output_type": "stream",
     "text": [
      "2\n"
     ]
    }
   ],
   "source": [
    "input_str = \"\"\"2-4,6-8\n",
    "2-3,4-5\n",
    "5-7,7-9\n",
    "2-8,3-7\n",
    "6-6,4-6\n",
    "2-6,4-8\"\"\"\n",
    "\n",
    "# Split input string into a list of assignment pairs\n",
    "pairs = input_str.splitlines()\n",
    "\n",
    "# Initialize variable for number of overlaps\n",
    "num_overlaps = 0\n",
    "\n",
    "# Iterate through pairs\n",
    "for pair in pairs:\n",
    "    # Split each assignment into start and end IDs and store in tuples\n",
    "    assignment1, assignment2 = pair.split(\",\")\n",
    "    assignment1 = tuple(map(int, assignment1.split(\"-\")))\n",
    "    assignment2 = tuple(map(int, assignment2.split(\"-\")))\n",
    "\n",
    "    # Check if one assignment fully contains the other and increment num_overlaps if so\n",
    "    if assignment1[0] <= assignment2[0] and assignment1[1] >= assignment2[1]:\n",
    "        num_overlaps += 1\n",
    "    elif assignment1[0] >= assignment2[0] and assignment1[1] <= assignment2[1]:\n",
    "        num_overlaps += 1\n",
    "\n",
    "# Print number of overlaps\n",
    "print(num_overlaps)\n"
   ]
  }
 ],
 "metadata": {
  "kernelspec": {
   "display_name": "Python 3",
   "language": "python",
   "name": "python3"
  },
  "language_info": {
   "codemirror_mode": {
    "name": "ipython",
    "version": 3
   },
   "file_extension": ".py",
   "mimetype": "text/x-python",
   "name": "python",
   "nbconvert_exporter": "python",
   "pygments_lexer": "ipython3",
   "version": "3.8.8"
  }
 },
 "nbformat": 4,
 "nbformat_minor": 5
}

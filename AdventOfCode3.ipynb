{
 "cells": [
  {
   "cell_type": "markdown",
   "id": "c17df5da",
   "metadata": {},
   "source": [
    "# ChatGPT - Day 3 - Try 5"
   ]
  },
  {
   "cell_type": "markdown",
   "id": "4df84f45",
   "metadata": {},
   "source": [
    "First, we will use the splitlines() method to split the input string into a list of strings. Then, we will iterate through this list, adding up the total calories for each Elf until we reach a blank line. We will store the maximum number of calories that we have seen so far in a variable max_calories, and the Elf with the maximum number of calories in a variable max_calorie_elf. When we reach a blank line, we will reset the total calories for the current Elf to 0 and continue iterating through the list. At the end, we will print the number of calories carried by the Elf with the maximum number of calories.\n",
    "\n",
    "Here is the code:"
   ]
  },
  {
   "cell_type": "code",
   "execution_count": 9,
   "id": "b62340b3",
   "metadata": {},
   "outputs": [
    {
     "name": "stdout",
     "output_type": "stream",
     "text": [
      "157\n"
     ]
    }
   ],
   "source": [
    "input_str = \"\"\"\n",
    "vJrwpWtwJgWrhcsFMMfFFhFp\n",
    "jqHRNqRjqzjGDLGLrsFMfFZSrLrFZsSL\n",
    "PmmdzqPrVvPwwTWBwg\n",
    "wMqvLMZHhHMvwLHjbvcjnnSBnvTQFn\n",
    "ttgJtRGJQctTZtZT\n",
    "CrZsJsPPZsGzwwsLwLmpwMDw\"\"\"\n",
    "\n",
    "# Split input string into a list of rucksack strings\n",
    "rucksacks = input_str.splitlines()\n",
    "\n",
    "# Initialize variable for total priority\n",
    "total_priority = 0\n",
    "\n",
    "# Iterate through rucksacks\n",
    "for rucksack in rucksacks:\n",
    "    # Split rucksack string into two strings representing the two compartments\n",
    "    compartment1, compartment2 = rucksack[:len(rucksack)//2], rucksack[len(rucksack)//2:]\n",
    "\n",
    "    # Iterate through letters in compartment1\n",
    "    for letter in compartment1:\n",
    "        # If letter appears in compartment2, calculate its priority and add it to total_priority\n",
    "        if letter in compartment2:\n",
    "            if letter.islower():\n",
    "                priority = ord(letter) - 96\n",
    "            else:\n",
    "                priority = ord(letter) - 38\n",
    "            total_priority += priority\n",
    "            break\n",
    "\n",
    "# Print total priority\n",
    "print(total_priority)\n"
   ]
  }
 ],
 "metadata": {
  "kernelspec": {
   "display_name": "Python 3",
   "language": "python",
   "name": "python3"
  },
  "language_info": {
   "codemirror_mode": {
    "name": "ipython",
    "version": 3
   },
   "file_extension": ".py",
   "mimetype": "text/x-python",
   "name": "python",
   "nbconvert_exporter": "python",
   "pygments_lexer": "ipython3",
   "version": "3.8.8"
  }
 },
 "nbformat": 4,
 "nbformat_minor": 5
}

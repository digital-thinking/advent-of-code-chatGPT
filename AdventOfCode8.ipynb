{
 "cells": [
  {
   "cell_type": "markdown",
   "id": "c17df5da",
   "metadata": {},
   "source": [
    "# ChatGPT - Day 8 - Try 8 - This is wild!"
   ]
  },
  {
   "cell_type": "markdown",
   "id": "4df84f45",
   "metadata": {},
   "source": [
    "To solve this problem, we can iterate through the grid and check if each tree is visible from the left, right, top, or bottom. To do this, we can use the following steps:\n",
    "\n",
    "    Parse the input and store the grid of trees in a list of lists.\n",
    "    Iterate through each tree in the grid and check if it is visible from the left, right, top, or bottom.\n",
    "    If a tree is visible from a direction, increment a counter and continue to the next tree.\n",
    "    After iterating through all trees, return the counter as the result.\n",
    "\n",
    "Here is a solution in Python:"
   ]
  },
  {
   "cell_type": "code",
   "execution_count": 33,
   "id": "b62340b3",
   "metadata": {},
   "outputs": [
    {
     "data": {
      "text/plain": [
       "40"
      ]
     },
     "execution_count": 33,
     "metadata": {},
     "output_type": "execute_result"
    }
   ],
   "source": [
    "input_str = \"\"\"\n",
    "30373\n",
    "25512\n",
    "65332\n",
    "33549\n",
    "35390\n",
    "\"\"\"\n",
    "# Parse input and store in grid\n",
    "grid = []\n",
    "for line in input_str.strip().split('\\n'):\n",
    "    grid.append(list(map(int, line)))\n",
    "\n",
    "# Function to check if a tree is visible from a direction\n",
    "def is_tree_visible(tree, direction, grid):\n",
    "    # If tree is on edge, it is always visible\n",
    "    if direction == 'left' and tree[1] == 0:\n",
    "        return True\n",
    "    if direction == 'right' and tree[1] == len(grid[0]) - 1:\n",
    "        return True\n",
    "    if direction == 'top' and tree[0] == 0:\n",
    "        return True\n",
    "    if direction == 'bottom' and tree[0] == len(grid) - 1:\n",
    "        return True\n",
    "\n",
    "    # Otherwise, check if tree is taller than all other trees in the direction\n",
    "    if direction == 'left':\n",
    "        for i in range(tree[1] - 1, -1, -1):\n",
    "            if grid[tree[0]][i] >= tree[2]:\n",
    "                return False\n",
    "        return True\n",
    "    if direction == 'right':\n",
    "        for i in range(tree[1] + 1, len(grid[0])):\n",
    "            if grid[tree[0]][i] >= tree[2]:\n",
    "                return False\n",
    "        return True\n",
    "    if direction == 'top':\n",
    "        for i in range(tree[0] - 1, -1, -1):\n",
    "            if grid[i][tree[1]] >= tree[2]:\n",
    "                return False\n",
    "        return True\n",
    "    if direction == 'bottom':\n",
    "        for i in range(tree[0] + 1, len(grid)):\n",
    "            if grid[i][tree[1]] >= tree[2]:\n",
    "                return False\n",
    "        return True\n",
    "\n",
    "# Iterate through grid and check if each tree is visible\n",
    "visible_trees = 0\n",
    "for i in range(len(grid)):\n",
    "    for j in range(len(grid[0])):\n",
    "        tree = (i, j, grid[i][j])\n",
    "        if is_tree_visible(tree, 'left', grid):\n",
    "            visible_trees += 1\n",
    "        if is_tree_visible(tree, 'right', grid):\n",
    "            visible_trees += 1\n",
    "        if is_tree_visible(tree, 'top', grid):\n",
    "            visible_trees += 1\n",
    "        if is_tree_visible(tree, 'bottom', grid):\n",
    "            visible_trees += 1\n",
    "\n",
    "# Return number of visible trees\n",
    "visible_trees"
   ]
  },
  {
   "cell_type": "markdown",
   "id": "809fdde4",
   "metadata": {},
   "source": [
    "## My conversion about the wrong code with ChatGPT:\n",
    "`Me: What is the output for the given input?`\n",
    "\n",
    "ChatGPT: For the given input, the output would be 21. This is because the top-left 5, top-middle 5, left-middle 5, right-middle 3, and bottom-middle 5 are all visible from outside the grid.\n",
    "\n",
    "`Me: But your code returns 40, why?`\n",
    "\n",
    "ChatGPT: This is because the code is checking if a tree is visible from each direction (left, right, top, bottom) individually, and incrementing the counter each time. However, in this problem, a tree is only considered visible if it is visible from any direction. Therefore, we need to make the following changes to the code:\n",
    "\n",
    "   In the is_tree_visible function, return True if the tree is visible from any direction, and False otherwise.\n",
    "   In the main loop, only increment the counter if the tree is visible from any direction.\n",
    "\n",
    "Here is the updated code:"
   ]
  },
  {
   "cell_type": "code",
   "execution_count": 34,
   "id": "6498efdc",
   "metadata": {},
   "outputs": [
    {
     "data": {
      "text/plain": [
       "21"
      ]
     },
     "execution_count": 34,
     "metadata": {},
     "output_type": "execute_result"
    }
   ],
   "source": [
    "# Parse input and store in grid\n",
    "grid = []\n",
    "for line in input_str.strip().split('\\n'):\n",
    "    grid.append(list(map(int, line)))\n",
    "\n",
    "# Function to check if a tree is visible from a direction\n",
    "def is_tree_visible(tree, direction, grid):\n",
    "    # If tree is on edge, it is always visible\n",
    "    if direction == 'left' and tree[1] == 0:\n",
    "        return True\n",
    "    if direction == 'right' and tree[1] == len(grid[0]) - 1:\n",
    "        return True\n",
    "    if direction == 'top' and tree[0] == 0:\n",
    "        return True\n",
    "    if direction == 'bottom' and tree[0] == len(grid) - 1:\n",
    "        return True\n",
    "\n",
    "    # Otherwise, check if tree is taller than all other trees in the direction\n",
    "    if direction == 'left':\n",
    "        for i in range(tree[1] - 1, -1, -1):\n",
    "            if grid[tree[0]][i] >= tree[2]:\n",
    "                return False\n",
    "        return True\n",
    "    if direction == 'right':\n",
    "        for i in range(tree[1] + 1, len(grid[0])):\n",
    "            if grid[tree[0]][i] >= tree[2]:\n",
    "                return False\n",
    "        return True\n",
    "    if direction == 'top':\n",
    "        for i in range(tree[0] - 1, -1, -1):\n",
    "            if grid[i][tree[1]] >= tree[2]:\n",
    "                return False\n",
    "        return True\n",
    "    if direction == 'bottom':\n",
    "        for i in range(tree[0] + 1, len(grid)):\n",
    "            if grid[i][tree[1]] >= tree[2]:\n",
    "                return False\n",
    "        return True\n",
    "\n",
    "# Iterate through grid and check if each tree is visible\n",
    "visible_trees = 0\n",
    "for i in range(len(grid)):\n",
    "    for j in range(len(grid[0])):\n",
    "        tree = (i, j, grid[i][j])\n",
    "        if is_tree_visible(tree, 'left', grid) or is_tree_visible(tree, 'right', grid) or is_tree_visible(tree, 'top', grid) or is_tree_visible(tree, 'bottom', grid):\n",
    "            visible_trees += 1\n",
    "\n",
    "# Return number of visible trees\n",
    "visible_trees\n"
   ]
  }
 ],
 "metadata": {
  "kernelspec": {
   "display_name": "Python 3",
   "language": "python",
   "name": "python3"
  },
  "language_info": {
   "codemirror_mode": {
    "name": "ipython",
    "version": 3
   },
   "file_extension": ".py",
   "mimetype": "text/x-python",
   "name": "python",
   "nbconvert_exporter": "python",
   "pygments_lexer": "ipython3",
   "version": "3.8.8"
  }
 },
 "nbformat": 4,
 "nbformat_minor": 5
}

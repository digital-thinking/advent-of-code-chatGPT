{
 "cells": [
  {
   "cell_type": "markdown",
   "id": "c17df5da",
   "metadata": {},
   "source": [
    "# ChatGPT - Day 7 - Try 9"
   ]
  },
  {
   "cell_type": "markdown",
   "id": "4df84f45",
   "metadata": {},
   "source": [
    "To solve this problem, we need to parse the filesystem commands and output given in the problem statement and compute the total size of each directory.\n",
    "\n",
    "First, we need to define a class to represent a directory in the filesystem. This class will have the following attributes:\n",
    "\n",
    "    name: the name of the directory\n",
    "    parent: a reference to the parent directory (or None if this is the outermost directory)\n",
    "    children: a dictionary mapping the names of the directories and files contained by this directory to their corresponding instances\n",
    "    size: the total size of this directory (the sum of the sizes of the files and directories it contains, directly or indirectly)\n",
    "\n",
    "We will also define the following methods:\n",
    "\n",
    "    __init__: initializes the name, parent, and children attributes\n",
    "    add_child: adds a child directory or file to this directory\n",
    "    get_total_size: computes the total size of this directory (by recursively calling the get_total_size method of its children)\n",
    "    get_all_descendants: returns a list of all the directories and files contained by this directory, directly or indirectly\n",
    "\n",
    "Here is the code for the Directory class:"
   ]
  },
  {
   "cell_type": "code",
   "execution_count": 5,
   "id": "b62340b3",
   "metadata": {},
   "outputs": [],
   "source": [
    "class Directory:\n",
    "    def __init__(self, name, parent=None):\n",
    "        self.name = name\n",
    "        self.parent = parent\n",
    "        self.children = {}\n",
    "        self.size = 0\n",
    "\n",
    "    def add_child(self, child):\n",
    "        self.children[child.name] = child\n",
    "\n",
    "    def get_total_size(self):\n",
    "        if self.size > 0:  # Return the cached total size if it has been computed before\n",
    "            return self.size\n",
    "\n",
    "        # Compute the total size by recursively calling the get_total_size method of each child\n",
    "        self.size = sum(child.get_total_size() for child in self.children.values())\n",
    "        return self.size\n",
    "\n",
    "    def get_all_descendants(self):\n",
    "        # Get all the descendants of this directory by recursively calling the get_all_descendants method of each child\n",
    "        descendants = []\n",
    "        for child in self.children.values():\n",
    "            descendants.extend(child.get_all_descendants())\n",
    "        return descendants"
   ]
  },
  {
   "cell_type": "markdown",
   "id": "f4368fae",
   "metadata": {},
   "source": [
    "Next, we need to define a function that parses the filesystem commands and output given in the problem statement and returns a Directory instance representing the outermost directory.\n",
    "\n",
    "To do this, we will first create a Directory instance for the outermost directory and initialize a list of directories that need to be processed. Then, we will loop through the commands and output and do the following:\n",
    "\n",
    "    If the current line is a command, we will parse it and update the current directory accordingly:\n",
    "        If the command is cd /, we will set the current directory to the outermost directory.\n",
    "        If the command is cd .., we will set the current directory to its parent directory.\n",
    "        If the command is cd dirname, we will set the current directory to the child directory named dirname (if it exists). Otherwise, we will create a new Directory instance for the dirname directory and add it as a child of the current directory.\n",
    "    If the current line is an ls output, we will parse it and add the listed files and directories to the current directory.\n",
    "\n",
    "Here is the code for the parse_commands function:"
   ]
  },
  {
   "cell_type": "code",
   "execution_count": 6,
   "id": "60f505d6",
   "metadata": {},
   "outputs": [],
   "source": [
    "def parse_commands(commands):\n",
    "    outermost_dir = Directory(\"/\")  # Create a Directory instance for the outermost directory\n",
    "    dirs_to_process = [outermost_dir]  # Initialize a list of directories that need to be processed\n",
    "\n",
    "    for line in commands:\n",
    "        if line[0] == \"$\":  # If the current line is a command\n",
    "            # Parse the command\n",
    "            parts = line.split()\n",
    "            cmd = parts[0][1:].strip()  # The first part of the line is the command (without the $ prefix)\n",
    "            if cmd == \"cd\":\n",
    "                dirname = parts[1].strip()\n",
    "                if dirname == \"/\":  # If the command is \"cd /\", set the current directory to the outermost directory\n",
    "                    current_dir = outermost_dir\n",
    "                elif dirname == \"..\":  # If the command is \"cd ..\", set the current directory to its parent directory\n",
    "                    current_dir = current_dir.parent\n",
    "                else:  # If the command is \"cd dirname\", set the current directory to the child directory named \"dirname\"\n",
    "                    if dirname not in current_dir.children:  # If the child directory does not exist, create it\n",
    "                        child_dir = Directory(dirname, current_dir)\n",
    "                        current_dir.add_child(child_dir)\n",
    "                        dirs_to_process.append(child_dir)  # Add the child directory to the list of directories to process\n",
    "                    current_dir = current_dir.children[dirname]\n",
    "        else:  # If the current line is an \"ls\" output\n",
    "            # Parse the \"ls\" output and add the listed files and directories to the current directory\n",
    "            parts = line.split()\n",
    "            for part in parts:\n",
    "                if part[-1] == \":\":  # If the part ends with a colon, it is a directory\n",
    "                    dirname = part[:-1]\n",
    "                    if dirname not in current_dir.children:  # If the directory does not exist, create it\n",
    "                        child_dir = Directory(dirname, current_dir)\n",
    "                        current_dir.add_child(child_dir)\n",
    "                        dirs_to_process.append(child_dir)  # Add the child directory to the list of directories to process\n",
    "                else:  # If the part is not a directory, it is a file\n",
    "                    filename, size = part.split(\" \")  # Split the file name and size\n",
    "                    current_dir.add_child(Directory(filename, current_dir, size=int(size)))\n",
    "\n",
    "    # Process the directories in the list of directories to process\n",
    "    while dirs_to_process:\n",
    "        dir_to_process = dirs_to_process.pop()\n",
    "        dir_to_process.get_total_size()\n",
    "\n",
    "    return outermost_dir"
   ]
  },
  {
   "cell_type": "code",
   "execution_count": 13,
   "id": "c084903e",
   "metadata": {},
   "outputs": [
    {
     "ename": "ValueError",
     "evalue": "not enough values to unpack (expected 2, got 1)",
     "output_type": "error",
     "traceback": [
      "\u001b[1;31m---------------------------------------------------------------------------\u001b[0m",
      "\u001b[1;31mValueError\u001b[0m                                Traceback (most recent call last)",
      "\u001b[1;32m<ipython-input-13-2bd48ff0e534>\u001b[0m in \u001b[0;36m<module>\u001b[1;34m\u001b[0m\n\u001b[0;32m     23\u001b[0m 7214296 k\"\"\"\n\u001b[0;32m     24\u001b[0m \u001b[1;33m\u001b[0m\u001b[0m\n\u001b[1;32m---> 25\u001b[1;33m \u001b[0mparse_commands\u001b[0m\u001b[1;33m(\u001b[0m\u001b[0minput_str\u001b[0m\u001b[1;33m.\u001b[0m\u001b[0msplitlines\u001b[0m\u001b[1;33m(\u001b[0m\u001b[1;33m)\u001b[0m\u001b[1;33m)\u001b[0m\u001b[1;33m\u001b[0m\u001b[1;33m\u001b[0m\u001b[0m\n\u001b[0m",
      "\u001b[1;32m<ipython-input-6-d1948b71d801>\u001b[0m in \u001b[0;36mparse_commands\u001b[1;34m(commands)\u001b[0m\n\u001b[0;32m     31\u001b[0m                         \u001b[0mdirs_to_process\u001b[0m\u001b[1;33m.\u001b[0m\u001b[0mappend\u001b[0m\u001b[1;33m(\u001b[0m\u001b[0mchild_dir\u001b[0m\u001b[1;33m)\u001b[0m  \u001b[1;31m# Add the child directory to the list of directories to process\u001b[0m\u001b[1;33m\u001b[0m\u001b[1;33m\u001b[0m\u001b[0m\n\u001b[0;32m     32\u001b[0m                 \u001b[1;32melse\u001b[0m\u001b[1;33m:\u001b[0m  \u001b[1;31m# If the part is not a directory, it is a file\u001b[0m\u001b[1;33m\u001b[0m\u001b[1;33m\u001b[0m\u001b[0m\n\u001b[1;32m---> 33\u001b[1;33m                     \u001b[0mfilename\u001b[0m\u001b[1;33m,\u001b[0m \u001b[0msize\u001b[0m \u001b[1;33m=\u001b[0m \u001b[0mpart\u001b[0m\u001b[1;33m.\u001b[0m\u001b[0msplit\u001b[0m\u001b[1;33m(\u001b[0m\u001b[1;34m\" \"\u001b[0m\u001b[1;33m)\u001b[0m  \u001b[1;31m# Split the file name and size\u001b[0m\u001b[1;33m\u001b[0m\u001b[1;33m\u001b[0m\u001b[0m\n\u001b[0m\u001b[0;32m     34\u001b[0m                     \u001b[0mcurrent_dir\u001b[0m\u001b[1;33m.\u001b[0m\u001b[0madd_child\u001b[0m\u001b[1;33m(\u001b[0m\u001b[0mDirectory\u001b[0m\u001b[1;33m(\u001b[0m\u001b[0mfilename\u001b[0m\u001b[1;33m,\u001b[0m \u001b[0mcurrent_dir\u001b[0m\u001b[1;33m,\u001b[0m \u001b[0msize\u001b[0m\u001b[1;33m=\u001b[0m\u001b[0mint\u001b[0m\u001b[1;33m(\u001b[0m\u001b[0msize\u001b[0m\u001b[1;33m)\u001b[0m\u001b[1;33m)\u001b[0m\u001b[1;33m)\u001b[0m\u001b[1;33m\u001b[0m\u001b[1;33m\u001b[0m\u001b[0m\n\u001b[0;32m     35\u001b[0m \u001b[1;33m\u001b[0m\u001b[0m\n",
      "\u001b[1;31mValueError\u001b[0m: not enough values to unpack (expected 2, got 1)"
     ]
    }
   ],
   "source": [
    "input_str = \"\"\"$ cd /\n",
    "$ ls\n",
    "dir a\n",
    "14848514 b.txt\n",
    "8504156 c.dat\n",
    "dir d\n",
    "$ cd a\n",
    "$ ls\n",
    "dir e\n",
    "29116 f\n",
    "2557 g\n",
    "62596 h.lst\n",
    "$ cd e\n",
    "$ ls\n",
    "584 i\n",
    "$ cd ..\n",
    "$ cd ..\n",
    "$ cd d\n",
    "$ ls\n",
    "4060174 j\n",
    "8033020 d.log\n",
    "5626152 d.ext\n",
    "7214296 k\"\"\"\n",
    "\n",
    "parse_commands(input_str.splitlines())"
   ]
  },
  {
   "cell_type": "markdown",
   "id": "41af59b6",
   "metadata": {},
   "source": [
    "This task is quite heavy and need a lot of code, even some understanding of the concept of classes. Imho what ChatGPT is able to achive is outright stunning. However it does again struggle with parsing the input corretly"
   ]
  }
 ],
 "metadata": {
  "kernelspec": {
   "display_name": "Python 3",
   "language": "python",
   "name": "python3"
  },
  "language_info": {
   "codemirror_mode": {
    "name": "ipython",
    "version": 3
   },
   "file_extension": ".py",
   "mimetype": "text/x-python",
   "name": "python",
   "nbconvert_exporter": "python",
   "pygments_lexer": "ipython3",
   "version": "3.8.8"
  }
 },
 "nbformat": 4,
 "nbformat_minor": 5
}
